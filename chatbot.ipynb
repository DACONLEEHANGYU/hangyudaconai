{
 "cells": [
  {
   "cell_type": "markdown",
   "source": [
    "# Chatbot"
   ],
   "metadata": {
    "collapsed": false
   },
   "id": "93a373c70e9db457"
  },
  {
   "cell_type": "code",
   "outputs": [],
   "source": [
    "import os"
   ],
   "metadata": {
    "collapsed": false,
    "ExecuteTime": {
     "end_time": "2024-05-29T08:34:25.230113Z",
     "start_time": "2024-05-29T08:34:25.221850Z"
    }
   },
   "id": "35ac912d8e47e42a",
   "execution_count": 1
  },
  {
   "cell_type": "code",
   "outputs": [
    {
     "data": {
      "text/plain": "True"
     },
     "execution_count": 2,
     "metadata": {},
     "output_type": "execute_result"
    }
   ],
   "source": [
    "from dotenv import load_dotenv\n",
    "load_dotenv()"
   ],
   "metadata": {
    "collapsed": false,
    "ExecuteTime": {
     "end_time": "2024-05-29T08:34:25.246331Z",
     "start_time": "2024-05-29T08:34:25.232142Z"
    }
   },
   "id": "b919c31ba8785218",
   "execution_count": 2
  },
  {
   "cell_type": "markdown",
   "source": [
    "## Model"
   ],
   "metadata": {
    "collapsed": false
   },
   "id": "de6cf8b3438e2c3b"
  },
  {
   "cell_type": "code",
   "outputs": [],
   "source": [
    "from langserve import RemoteRunnable\n",
    "\n",
    "#os.environ[\"OPENAI_API_KEY\"] = getpass.getpass()\n",
    "#from langchain_openai import ChatOpenAI\n",
    "#model = ChatOpenAI(model=\"gpt-3.5-turbo\")\n",
    "model = RemoteRunnable(os.getenv('LANGSERVE_ENDPOINT'))"
   ],
   "metadata": {
    "collapsed": false,
    "ExecuteTime": {
     "end_time": "2024-05-29T08:34:27.267605Z",
     "start_time": "2024-05-29T08:34:25.247339Z"
    }
   },
   "id": "38bec3ccf1ce8513",
   "execution_count": 3
  },
  {
   "cell_type": "markdown",
   "source": [
    "## Message History"
   ],
   "metadata": {
    "collapsed": false
   },
   "id": "332c678ad0f58385"
  },
  {
   "cell_type": "code",
   "outputs": [
    {
     "data": {
      "text/plain": "AIMessage(content='Hello, Bob! I am an AI assistant. How can I help you today?', response_metadata={'model': 'llama-3-Korean-Bllossom-8B-gguf-Q4_K_M:latest', 'created_at': '2024-05-29T08:34:29.383152828Z', 'message': {'role': 'assistant', 'content': ''}, 'done': True, 'total_duration': 344591876, 'load_duration': 925035, 'prompt_eval_count': 55, 'prompt_eval_duration': 59111000, 'eval_count': 18, 'eval_duration': 154140000}, id='run-8e0d6bc7-fe0a-43bb-9950-e45428ae549b-0')"
     },
     "execution_count": 4,
     "metadata": {},
     "output_type": "execute_result"
    }
   ],
   "source": [
    "from langchain_core.messages import HumanMessage\n",
    "\n",
    "model.invoke([HumanMessage(content=\"Hi! I'm Bob\")])"
   ],
   "metadata": {
    "collapsed": false,
    "ExecuteTime": {
     "end_time": "2024-05-29T08:34:27.673150Z",
     "start_time": "2024-05-29T08:34:27.269141Z"
    }
   },
   "id": "77487dc1059fd350",
   "execution_count": 4
  },
  {
   "cell_type": "code",
   "outputs": [
    {
     "data": {
      "text/plain": "AIMessage(content='Your name is not specified in our records. Please sign in to create a account or edit your existing account to add your name.', response_metadata={'model': 'llama-3-Korean-Bllossom-8B-gguf-Q4_K_M:latest', 'created_at': '2024-05-29T08:34:30.35563566Z', 'message': {'role': 'assistant', 'content': ''}, 'done': True, 'total_duration': 928975551, 'load_duration': 796197, 'prompt_eval_count': 15, 'prompt_eval_duration': 132325000, 'eval_count': 27, 'eval_duration': 661906000}, id='run-94eadfc6-eff8-4467-a92a-5ce925a6b247-0')"
     },
     "execution_count": 5,
     "metadata": {},
     "output_type": "execute_result"
    }
   ],
   "source": [
    "model.invoke([HumanMessage(content=\"What's my name?\")])"
   ],
   "metadata": {
    "collapsed": true,
    "ExecuteTime": {
     "end_time": "2024-05-29T08:34:28.626107Z",
     "start_time": "2024-05-29T08:34:27.676206Z"
    }
   },
   "id": "initial_id",
   "execution_count": 5
  },
  {
   "cell_type": "code",
   "outputs": [
    {
     "data": {
      "text/plain": "AIMessage(content='Your name is Bob. Is there anything else I can help you with?\\n', response_metadata={'model': 'llama-3-Korean-Bllossom-8B-gguf-Q4_K_M:latest', 'created_at': '2024-05-29T08:34:30.938054382Z', 'message': {'role': 'assistant', 'content': ''}, 'done': True, 'total_duration': 558442124, 'load_duration': 875314, 'prompt_eval_count': 48, 'prompt_eval_duration': 132854000, 'eval_count': 18, 'eval_duration': 282585000}, id='run-14948939-eb26-49df-b3b7-e6c9498bbbad-0')"
     },
     "execution_count": 6,
     "metadata": {},
     "output_type": "execute_result"
    }
   ],
   "source": [
    "from langchain_core.messages import AIMessage\n",
    "\n",
    "model.invoke(\n",
    "    [\n",
    "        #HumanMessage(content=\"Hi! My name is Bob\"),\n",
    "        HumanMessage(content=\"Hi! I'm Bob\"),\n",
    "        AIMessage(content=\"Hello Bob! How can I assist you today?\"),\n",
    "        HumanMessage(content=\"What's my name?\"),\n",
    "    ]\n",
    ")"
   ],
   "metadata": {
    "collapsed": false,
    "ExecuteTime": {
     "end_time": "2024-05-29T08:34:29.208313Z",
     "start_time": "2024-05-29T08:34:28.627136Z"
    }
   },
   "id": "713141c5967139e7",
   "execution_count": 6
  },
  {
   "cell_type": "code",
   "outputs": [],
   "source": [
    "from langchain_community.chat_message_histories import ChatMessageHistory\n",
    "from langchain_core.chat_history import BaseChatMessageHistory\n",
    "from langchain_core.runnables.history import RunnableWithMessageHistory\n",
    "\n",
    "store = {}\n",
    "\n",
    "def get_session_history(session_id: str) -> BaseChatMessageHistory:\n",
    "    if session_id not in store:\n",
    "        store[session_id] = ChatMessageHistory()\n",
    "    return store[session_id]"
   ],
   "metadata": {
    "collapsed": false,
    "ExecuteTime": {
     "end_time": "2024-05-29T08:34:29.227648Z",
     "start_time": "2024-05-29T08:34:29.210487Z"
    }
   },
   "id": "76067670245ae146",
   "execution_count": 7
  },
  {
   "cell_type": "code",
   "outputs": [],
   "source": [
    "# https://api.python.langchain.com/en/latest/runnables/langchain_core.runnables.history.RunnableWithMessageHistory.html\n",
    "with_message_history = RunnableWithMessageHistory(model, get_session_history)"
   ],
   "metadata": {
    "collapsed": false,
    "ExecuteTime": {
     "end_time": "2024-05-29T08:34:29.235630Z",
     "start_time": "2024-05-29T08:34:29.229720Z"
    }
   },
   "id": "4481100ae5570195",
   "execution_count": 8
  },
  {
   "cell_type": "code",
   "outputs": [],
   "source": [
    "config = {\"configurable\": {\"session_id\": \"abc2\"}}"
   ],
   "metadata": {
    "collapsed": false,
    "ExecuteTime": {
     "end_time": "2024-05-29T08:34:29.241915Z",
     "start_time": "2024-05-29T08:34:29.236675Z"
    }
   },
   "id": "1e469def3f77b16d",
   "execution_count": 9
  },
  {
   "cell_type": "code",
   "outputs": [
    {
     "data": {
      "text/plain": "'Hello, Bob! I am an AI assistant. How can I help you today?'"
     },
     "execution_count": 10,
     "metadata": {},
     "output_type": "execute_result"
    }
   ],
   "source": [
    "response = with_message_history.invoke(\n",
    "  [HumanMessage(content=\"Hi! I'm Bob\")],\n",
    "    config=config,\n",
    ")\n",
    "\n",
    "response.content"
   ],
   "metadata": {
    "collapsed": false,
    "ExecuteTime": {
     "end_time": "2024-05-29T08:34:29.782624Z",
     "start_time": "2024-05-29T08:34:29.243929Z"
    }
   },
   "id": "4f23bfd663702cbb",
   "execution_count": 10
  },
  {
   "cell_type": "code",
   "outputs": [
    {
     "data": {
      "text/plain": "InMemoryChatMessageHistory(messages=[HumanMessage(content=\"Hi! I'm Bob\"), AIMessage(content='Hello, Bob! I am an AI assistant. How can I help you today?', response_metadata={'model': 'llama-3-Korean-Bllossom-8B-gguf-Q4_K_M:latest', 'created_at': '2024-05-29T08:34:31.309024126Z', 'message': {'role': 'assistant', 'content': ''}, 'done': True, 'total_duration': 298648529, 'load_duration': 856699, 'prompt_eval_duration': 10415000, 'eval_count': 18, 'eval_duration': 153353000}, id='run-97c19d7d-b475-42ee-af0f-ebd346483f41-0')])"
     },
     "execution_count": 11,
     "metadata": {},
     "output_type": "execute_result"
    }
   ],
   "source": [
    "store[\"abc2\"]"
   ],
   "metadata": {
    "collapsed": false,
    "ExecuteTime": {
     "end_time": "2024-05-29T08:34:29.791051Z",
     "start_time": "2024-05-29T08:34:29.784724Z"
    }
   },
   "id": "73b585c09d963310",
   "execution_count": 11
  },
  {
   "cell_type": "code",
   "outputs": [
    {
     "data": {
      "text/plain": "'Your name is Bob. Is there anything else I can help you with?\\n'"
     },
     "execution_count": 12,
     "metadata": {},
     "output_type": "execute_result"
    }
   ],
   "source": [
    "response = with_message_history.invoke(\n",
    "    [HumanMessage(content=\"What's my name?\")],\n",
    "    config=config,\n",
    ")\n",
    "\n",
    "response.content"
   ],
   "metadata": {
    "collapsed": false,
    "ExecuteTime": {
     "end_time": "2024-05-29T08:34:30.216580Z",
     "start_time": "2024-05-29T08:34:29.793076Z"
    }
   },
   "id": "7714fe9dafa720e1",
   "execution_count": 12
  },
  {
   "cell_type": "code",
   "outputs": [
    {
     "data": {
      "text/plain": "InMemoryChatMessageHistory(messages=[HumanMessage(content=\"Hi! I'm Bob\"), AIMessage(content='Hello, Bob! I am an AI assistant. How can I help you today?', response_metadata={'model': 'llama-3-Korean-Bllossom-8B-gguf-Q4_K_M:latest', 'created_at': '2024-05-29T08:34:31.309024126Z', 'message': {'role': 'assistant', 'content': ''}, 'done': True, 'total_duration': 298648529, 'load_duration': 856699, 'prompt_eval_duration': 10415000, 'eval_count': 18, 'eval_duration': 153353000}, id='run-97c19d7d-b475-42ee-af0f-ebd346483f41-0'), HumanMessage(content=\"What's my name?\"), AIMessage(content='Your name is Bob. Is there anything else I can help you with?\\n', response_metadata={'model': 'llama-3-Korean-Bllossom-8B-gguf-Q4_K_M:latest', 'created_at': '2024-05-29T08:34:31.90291729Z', 'message': {'role': 'assistant', 'content': ''}, 'done': True, 'total_duration': 349744961, 'load_duration': 1194198, 'prompt_eval_count': 22, 'prompt_eval_duration': 58613000, 'eval_count': 18, 'eval_duration': 153700000}, id='run-c2fdd7e0-0b7a-4685-957e-87c504e5c116-0')])"
     },
     "execution_count": 13,
     "metadata": {},
     "output_type": "execute_result"
    }
   ],
   "source": [
    "store[\"abc2\"]"
   ],
   "metadata": {
    "collapsed": false,
    "ExecuteTime": {
     "end_time": "2024-05-29T08:34:30.224815Z",
     "start_time": "2024-05-29T08:34:30.218730Z"
    }
   },
   "id": "d421517f099f41d2",
   "execution_count": 13
  },
  {
   "cell_type": "code",
   "outputs": [
    {
     "data": {
      "text/plain": "'Your name is not specified in our records. Please sign in to create a account or edit your existing account to add your name.'"
     },
     "execution_count": 14,
     "metadata": {},
     "output_type": "execute_result"
    }
   ],
   "source": [
    "config = {\"configurable\": {\"session_id\": \"abc3\"}}\n",
    "\n",
    "response = with_message_history.invoke(\n",
    "    [HumanMessage(content=\"What's my name?\")],\n",
    "    config=config,\n",
    ")\n",
    "\n",
    "response.content"
   ],
   "metadata": {
    "collapsed": false,
    "ExecuteTime": {
     "end_time": "2024-05-29T08:34:30.708Z",
     "start_time": "2024-05-29T08:34:30.228765Z"
    }
   },
   "id": "4326be8106b5dcfe",
   "execution_count": 14
  },
  {
   "cell_type": "code",
   "outputs": [
    {
     "data": {
      "text/plain": "'Your Name is Bob. I see your point. We can use your real name if you prefer. What would you like me to call you?\\n'"
     },
     "execution_count": 15,
     "metadata": {},
     "output_type": "execute_result"
    }
   ],
   "source": [
    "config = {\"configurable\": {\"session_id\": \"abc2\"}}\n",
    "\n",
    "response = with_message_history.invoke(\n",
    "    [HumanMessage(content=\"What's my name?\")],\n",
    "    config=config,\n",
    ")\n",
    "\n",
    "response.content"
   ],
   "metadata": {
    "collapsed": false,
    "ExecuteTime": {
     "end_time": "2024-05-29T08:34:31.316265Z",
     "start_time": "2024-05-29T08:34:30.709031Z"
    }
   },
   "id": "7de917031bc72686",
   "execution_count": 15
  },
  {
   "cell_type": "code",
   "outputs": [
    {
     "data": {
      "text/plain": "[HumanMessage(content=\"Hi! I'm Bob\"),\n AIMessage(content='Hello, Bob! I am an AI assistant. How can I help you today?', response_metadata={'model': 'llama-3-Korean-Bllossom-8B-gguf-Q4_K_M:latest', 'created_at': '2024-05-29T08:34:31.309024126Z', 'message': {'role': 'assistant', 'content': ''}, 'done': True, 'total_duration': 298648529, 'load_duration': 856699, 'prompt_eval_duration': 10415000, 'eval_count': 18, 'eval_duration': 153353000}, id='run-97c19d7d-b475-42ee-af0f-ebd346483f41-0'),\n HumanMessage(content=\"What's my name?\"),\n AIMessage(content='Your name is Bob. Is there anything else I can help you with?\\n', response_metadata={'model': 'llama-3-Korean-Bllossom-8B-gguf-Q4_K_M:latest', 'created_at': '2024-05-29T08:34:31.90291729Z', 'message': {'role': 'assistant', 'content': ''}, 'done': True, 'total_duration': 349744961, 'load_duration': 1194198, 'prompt_eval_count': 22, 'prompt_eval_duration': 58613000, 'eval_count': 18, 'eval_duration': 153700000}, id='run-c2fdd7e0-0b7a-4685-957e-87c504e5c116-0'),\n HumanMessage(content=\"What's my name?\"),\n AIMessage(content='Your Name is Bob. I see your point. We can use your real name if you prefer. What would you like me to call you?\\n', response_metadata={'model': 'llama-3-Korean-Bllossom-8B-gguf-Q4_K_M:latest', 'created_at': '2024-05-29T08:34:33.045353393Z', 'message': {'role': 'assistant', 'content': ''}, 'done': True, 'total_duration': 575392332, 'load_duration': 889811, 'prompt_eval_count': 92, 'prompt_eval_duration': 67229000, 'eval_count': 32, 'eval_duration': 284879000}, id='run-40ddfd49-2235-497a-9e67-379a5ec6c4ef-0')]"
     },
     "execution_count": 16,
     "metadata": {},
     "output_type": "execute_result"
    }
   ],
   "source": [
    "store[\"abc2\"].messages"
   ],
   "metadata": {
    "collapsed": false,
    "ExecuteTime": {
     "end_time": "2024-05-29T08:34:31.324244Z",
     "start_time": "2024-05-29T08:34:31.318298Z"
    }
   },
   "id": "880532153baf1c9f",
   "execution_count": 16
  },
  {
   "cell_type": "code",
   "outputs": [],
   "source": [
    "#[f\"{message.__class__.__name__.split()[-1]}:{message.content}\" for message in store[\"abc2\"].messages]"
   ],
   "metadata": {
    "collapsed": false,
    "ExecuteTime": {
     "end_time": "2024-05-29T08:34:31.330516Z",
     "start_time": "2024-05-29T08:34:31.326268Z"
    }
   },
   "id": "cd97864b7ab39b78",
   "execution_count": 17
  },
  {
   "cell_type": "markdown",
   "source": [
    "## Prompt templates"
   ],
   "metadata": {
    "collapsed": false
   },
   "id": "39c1dabcbee69332"
  },
  {
   "cell_type": "code",
   "outputs": [],
   "source": [
    "from langchain_core.prompts import ChatPromptTemplate, MessagesPlaceholder\n",
    "\n",
    "prompt = ChatPromptTemplate.from_messages(\n",
    "    [\n",
    "        (\n",
    "            \"system\",\n",
    "            \"You are a helpful assistant. Answer all questions to the best of your ability.\",\n",
    "        ),\n",
    "        MessagesPlaceholder(variable_name=\"messages\"),\n",
    "    ]\n",
    ")\n",
    "\n",
    "chain = prompt | model"
   ],
   "metadata": {
    "collapsed": false,
    "ExecuteTime": {
     "end_time": "2024-05-29T08:34:31.337298Z",
     "start_time": "2024-05-29T08:34:31.332535Z"
    }
   },
   "id": "4795090c83861a2f",
   "execution_count": 18
  },
  {
   "cell_type": "code",
   "outputs": [
    {
     "data": {
      "text/plain": "'Nice to meet you, Bob! I am an AI assistant. How can I help you today?'"
     },
     "execution_count": 19,
     "metadata": {},
     "output_type": "execute_result"
    }
   ],
   "source": [
    "response = chain.invoke({\"messages\": [HumanMessage(content=\"hi! I'm bob\")]})\n",
    "\n",
    "response.content"
   ],
   "metadata": {
    "collapsed": false,
    "ExecuteTime": {
     "end_time": "2024-05-29T08:34:31.761309Z",
     "start_time": "2024-05-29T08:34:31.338547Z"
    }
   },
   "id": "7a509a946117040c",
   "execution_count": 19
  },
  {
   "cell_type": "code",
   "outputs": [],
   "source": [
    "with_message_history = RunnableWithMessageHistory(chain, get_session_history)"
   ],
   "metadata": {
    "collapsed": false,
    "ExecuteTime": {
     "end_time": "2024-05-29T08:34:31.767873Z",
     "start_time": "2024-05-29T08:34:31.763347Z"
    }
   },
   "id": "fd53969e1382ee1",
   "execution_count": 20
  },
  {
   "cell_type": "code",
   "outputs": [],
   "source": [
    "config = {\"configurable\": {\"session_id\": \"abc5\"}}"
   ],
   "metadata": {
    "collapsed": false,
    "ExecuteTime": {
     "end_time": "2024-05-29T08:34:31.782911Z",
     "start_time": "2024-05-29T08:34:31.769412Z"
    }
   },
   "id": "f55ab0f6a41a8a51",
   "execution_count": 21
  },
  {
   "cell_type": "code",
   "outputs": [
    {
     "data": {
      "text/plain": "'Nice to meet you, Jim. I am an AI assistant. How can I help you today'"
     },
     "execution_count": 22,
     "metadata": {},
     "output_type": "execute_result"
    }
   ],
   "source": [
    "response = with_message_history.invoke(\n",
    "    #[HumanMessage(content=\"Hi! My name is Jim\")],\n",
    "    [HumanMessage(content=\"Hi! I'm Jim\")],\n",
    "    #{\"messages\":[HumanMessage(content=\"Hi! I'm Jim\")]},\n",
    "    config=config,\n",
    ")\n",
    "\n",
    "response.content"
   ],
   "metadata": {
    "collapsed": false,
    "ExecuteTime": {
     "end_time": "2024-05-29T08:34:32.198453Z",
     "start_time": "2024-05-29T08:34:31.784986Z"
    }
   },
   "id": "7909afe513f35f54",
   "execution_count": 22
  },
  {
   "cell_type": "code",
   "outputs": [
    {
     "data": {
      "text/plain": "'Your name is Jim. We just met, remember?\\n'"
     },
     "execution_count": 23,
     "metadata": {},
     "output_type": "execute_result"
    }
   ],
   "source": [
    "response = with_message_history.invoke(\n",
    "    [HumanMessage(content=\"What's my name?\")],\n",
    "    #{\"messages\": [HumanMessage(content=\"What's my name?\")]},\n",
    "    config=config,\n",
    ")\n",
    "\n",
    "response.content"
   ],
   "metadata": {
    "collapsed": false,
    "ExecuteTime": {
     "end_time": "2024-05-29T08:34:32.544639Z",
     "start_time": "2024-05-29T08:34:32.200469Z"
    }
   },
   "id": "53e3304b344d21aa",
   "execution_count": 23
  },
  {
   "cell_type": "code",
   "outputs": [
    {
     "data": {
      "text/plain": "[\"HumanMessage:Hi! I'm Jim\",\n 'AIMessage:Nice to meet you, Jim. I am an AI assistant. How can I help you today',\n \"HumanMessage:What's my name?\",\n 'AIMessage:Your name is Jim. We just met, remember?\\n']"
     },
     "execution_count": 24,
     "metadata": {},
     "output_type": "execute_result"
    }
   ],
   "source": [
    "[f\"{message.__class__.__name__.split()[-1]}:{message.content}\" for message in store[\"abc5\"].messages]"
   ],
   "metadata": {
    "collapsed": false,
    "ExecuteTime": {
     "end_time": "2024-05-29T08:34:32.551538Z",
     "start_time": "2024-05-29T08:34:32.545665Z"
    }
   },
   "id": "20a675a6482b2d87",
   "execution_count": 24
  },
  {
   "cell_type": "code",
   "outputs": [
    {
     "data": {
      "text/plain": "[HumanMessage(content=\"Hi! I'm Jim\"),\n AIMessage(content='Nice to meet you, Jim. I am an AI assistant. How can I help you today', response_metadata={'model': 'llama-3-Korean-Bllossom-8B-gguf-Q4_K_M:latest', 'created_at': '2024-05-29T08:34:33.925195956Z', 'message': {'role': 'assistant', 'content': ''}, 'done': True, 'total_duration': 380190851, 'load_duration': 956301, 'prompt_eval_count': 16, 'prompt_eval_duration': 57604000, 'eval_count': 22, 'eval_duration': 186311000}, id='run-f6166f48-eaa3-4d3c-9cc1-3019f465e823-0'),\n HumanMessage(content=\"What's my name?\"),\n AIMessage(content='Your name is Jim. We just met, remember?\\n', response_metadata={'model': 'llama-3-Korean-Bllossom-8B-gguf-Q4_K_M:latest', 'created_at': '2024-05-29T08:34:34.273747673Z', 'message': {'role': 'assistant', 'content': ''}, 'done': True, 'total_duration': 313950012, 'load_duration': 784873, 'prompt_eval_count': 22, 'prompt_eval_duration': 58371000, 'eval_count': 14, 'eval_duration': 120166000}, id='run-c3927535-4f70-46db-9798-caa5d7d31507-0')]"
     },
     "execution_count": 25,
     "metadata": {},
     "output_type": "execute_result"
    }
   ],
   "source": [
    "store[\"abc5\"].messages"
   ],
   "metadata": {
    "collapsed": false,
    "ExecuteTime": {
     "end_time": "2024-05-29T08:34:32.559967Z",
     "start_time": "2024-05-29T08:34:32.553561Z"
    }
   },
   "id": "2418afe2795e3eb1",
   "execution_count": 25
  },
  {
   "cell_type": "code",
   "outputs": [],
   "source": [
    "prompt = ChatPromptTemplate.from_messages(\n",
    "    [\n",
    "        (\n",
    "            \"system\",\n",
    "            \"You are a helpful assistant. Answer all questions to the best of your ability in {language}.\",\n",
    "        ),\n",
    "        MessagesPlaceholder(variable_name=\"messages\"),\n",
    "    ]\n",
    ")\n",
    "\n",
    "chain = prompt | model"
   ],
   "metadata": {
    "collapsed": false,
    "ExecuteTime": {
     "end_time": "2024-05-29T08:34:32.566292Z",
     "start_time": "2024-05-29T08:34:32.560985Z"
    }
   },
   "id": "4b49c8d864a622b4",
   "execution_count": 26
  },
  {
   "cell_type": "code",
   "outputs": [
    {
     "data": {
      "text/plain": "\"¡hola! Soy bien cercana asistente. Preguña me anything you want, and I'll do my best to answer it in Spanish.\\n  ```\\n \""
     },
     "execution_count": 27,
     "metadata": {},
     "output_type": "execute_result"
    }
   ],
   "source": [
    "response = chain.invoke(\n",
    "    {\"messages\": [HumanMessage(content=\"hi! I'm bob\")], \"language\": \"Spanish\"}\n",
    ")\n",
    "\n",
    "response.content"
   ],
   "metadata": {
    "collapsed": false,
    "ExecuteTime": {
     "end_time": "2024-05-29T08:34:33.155921Z",
     "start_time": "2024-05-29T08:34:32.568320Z"
    }
   },
   "id": "be84ca7d0839e298",
   "execution_count": 27
  },
  {
   "cell_type": "markdown",
   "source": [
    "## Managing Conversation History"
   ],
   "metadata": {
    "collapsed": false
   },
   "id": "aa7f67adbfc0e78d"
  },
  {
   "cell_type": "code",
   "outputs": [],
   "source": [
    "from langchain_core.runnables import RunnablePassthrough\n",
    "\n",
    "\n",
    "def filter_messages(messages, k=10):\n",
    "    return messages[-k:]\n",
    "\n",
    "\n",
    "chain = (\n",
    "    RunnablePassthrough.assign(messages=lambda x: filter_messages(x[\"messages\"]))\n",
    "    | prompt\n",
    "    | model\n",
    ")"
   ],
   "metadata": {
    "collapsed": false,
    "ExecuteTime": {
     "end_time": "2024-05-29T08:34:33.162960Z",
     "start_time": "2024-05-29T08:34:33.156989Z"
    }
   },
   "id": "4fc5956436cabb58",
   "execution_count": 28
  },
  {
   "cell_type": "code",
   "outputs": [],
   "source": [
    "messages = [\n",
    "    HumanMessage(content=\"hi! I'm bob\"),\n",
    "    AIMessage(content=\"hi!\"),\n",
    "    HumanMessage(content=\"I like vanilla ice cream\"),\n",
    "    AIMessage(content=\"nice\"),\n",
    "    HumanMessage(content=\"whats 2 + 2\"),\n",
    "    AIMessage(content=\"4\"),\n",
    "    HumanMessage(content=\"thanks\"),\n",
    "    AIMessage(content=\"no problem!\"),\n",
    "    HumanMessage(content=\"having fun?\"),\n",
    "    AIMessage(content=\"yes!\"),\n",
    "]"
   ],
   "metadata": {
    "collapsed": false,
    "ExecuteTime": {
     "end_time": "2024-05-29T08:34:33.175926Z",
     "start_time": "2024-05-29T08:34:33.164539Z"
    }
   },
   "id": "6d27025f0c6570f5",
   "execution_count": 29
  },
  {
   "cell_type": "code",
   "outputs": [
    {
     "data": {
      "text/plain": "\"it's a secret ;-) \\n\""
     },
     "execution_count": 30,
     "metadata": {},
     "output_type": "execute_result"
    }
   ],
   "source": [
    "response = chain.invoke(\n",
    "    {\n",
    "        \"messages\": messages + [HumanMessage(content=\"what's my name?\")],\n",
    "        \"language\": \"English\",\n",
    "    }\n",
    ")\n",
    "response.content"
   ],
   "metadata": {
    "collapsed": false,
    "ExecuteTime": {
     "end_time": "2024-05-29T08:34:34.005260Z",
     "start_time": "2024-05-29T08:34:33.178326Z"
    }
   },
   "id": "a9f03f4aaaeae153",
   "execution_count": 30
  },
  {
   "cell_type": "code",
   "outputs": [
    {
     "data": {
      "text/plain": "\"that's a good question! We could go back and forth about this for a while. I think your favorite flavor is probably chocolate, but I'm not sure. What do you think?\\n\""
     },
     "execution_count": 31,
     "metadata": {},
     "output_type": "execute_result"
    }
   ],
   "source": [
    "response = chain.invoke(\n",
    "    {\n",
    "        \"messages\": messages + [HumanMessage(content=\"what's my favorite flavor of ice cream\")],\n",
    "        \"language\": \"English\",\n",
    "    }\n",
    ")\n",
    "response.content"
   ],
   "metadata": {
    "collapsed": false,
    "ExecuteTime": {
     "end_time": "2024-05-29T08:34:35.145548Z",
     "start_time": "2024-05-29T08:34:34.007272Z"
    }
   },
   "id": "201f5eb393f22b33",
   "execution_count": 31
  },
  {
   "cell_type": "code",
   "outputs": [],
   "source": [
    "with_message_history = RunnableWithMessageHistory(\n",
    "    chain,\n",
    "    get_session_history,\n",
    "    input_messages_key=\"messages\",\n",
    ")\n",
    "\n",
    "config = {\"configurable\": {\"session_id\": \"abc20\"}}"
   ],
   "metadata": {
    "collapsed": false,
    "ExecuteTime": {
     "end_time": "2024-05-29T08:34:35.151577Z",
     "start_time": "2024-05-29T08:34:35.147577Z"
    }
   },
   "id": "99e370e4927848f1",
   "execution_count": 32
  },
  {
   "cell_type": "code",
   "outputs": [
    {
     "data": {
      "text/plain": "\"it's a secret ;-) \\n\""
     },
     "execution_count": 33,
     "metadata": {},
     "output_type": "execute_result"
    }
   ],
   "source": [
    "response = with_message_history.invoke(\n",
    "    {\n",
    "        \"messages\": messages + [HumanMessage(content=\"whats my name?\")],\n",
    "        \"language\": \"English\",\n",
    "    },\n",
    "    config=config,\n",
    ")\n",
    "\n",
    "response.content"
   ],
   "metadata": {
    "collapsed": false,
    "ExecuteTime": {
     "end_time": "2024-05-29T08:34:35.784183Z",
     "start_time": "2024-05-29T08:34:35.153128Z"
    }
   },
   "id": "c3f0ed953e3e494a",
   "execution_count": 33
  },
  {
   "cell_type": "code",
   "outputs": [
    {
     "data": {
      "text/plain": "\"that's a good question! I think your favorite ice cream is the same as everybody elset: chocolate!\""
     },
     "execution_count": 34,
     "metadata": {},
     "output_type": "execute_result"
    }
   ],
   "source": [
    "response = with_message_history.invoke(\n",
    "    {\n",
    "        \"messages\": [HumanMessage(content=\"whats my favorite ice cream?\")],\n",
    "        \"language\": \"English\",\n",
    "    },\n",
    "    config=config,\n",
    ")\n",
    "\n",
    "response.content"
   ],
   "metadata": {
    "collapsed": false,
    "ExecuteTime": {
     "end_time": "2024-05-29T08:34:36.522144Z",
     "start_time": "2024-05-29T08:34:35.785216Z"
    }
   },
   "id": "9955083225f6b4bd",
   "execution_count": 34
  },
  {
   "cell_type": "markdown",
   "source": [
    "## Streaming"
   ],
   "metadata": {
    "collapsed": false
   },
   "id": "5c3e0cbee52283e6"
  },
  {
   "cell_type": "code",
   "outputs": [
    {
     "name": "stdout",
     "output_type": "stream",
     "text": [
      "Here| is| one|:| Why| was| the| math| book| so| sad|?| Because| it| had| too| many| prime| numbers||"
     ]
    }
   ],
   "source": [
    "config = {\"configurable\": {\"session_id\": \"abc15\"}}\n",
    "for r in with_message_history.stream(\n",
    "    {\n",
    "        \"messages\": [HumanMessage(content=\"hi! I'm todd. tell me a joke\")],\n",
    "        \"language\": \"English\",\n",
    "    },\n",
    "    config=config,\n",
    "):\n",
    "    print(r.content, end=\"|\")"
   ],
   "metadata": {
    "collapsed": false,
    "ExecuteTime": {
     "end_time": "2024-05-29T08:34:36.971811Z",
     "start_time": "2024-05-29T08:34:36.523881Z"
    }
   },
   "id": "3823ee40bad96757",
   "execution_count": 35
  },
  {
   "cell_type": "code",
   "outputs": [],
   "source": [],
   "metadata": {
    "collapsed": false,
    "ExecuteTime": {
     "end_time": "2024-05-29T08:34:36.976719Z",
     "start_time": "2024-05-29T08:34:36.973046Z"
    }
   },
   "id": "21cbcfb5f136095e",
   "execution_count": 35
  }
 ],
 "metadata": {
  "kernelspec": {
   "display_name": "Python 3",
   "language": "python",
   "name": "python3"
  },
  "language_info": {
   "codemirror_mode": {
    "name": "ipython",
    "version": 2
   },
   "file_extension": ".py",
   "mimetype": "text/x-python",
   "name": "python",
   "nbconvert_exporter": "python",
   "pygments_lexer": "ipython2",
   "version": "2.7.6"
  }
 },
 "nbformat": 4,
 "nbformat_minor": 5
}
