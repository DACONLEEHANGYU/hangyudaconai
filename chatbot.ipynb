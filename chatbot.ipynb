{
 "cells": [
  {
   "cell_type": "markdown",
   "source": [
    "# Chatbot"
   ],
   "metadata": {
    "collapsed": false
   },
   "id": "93a373c70e9db457"
  },
  {
   "cell_type": "code",
   "outputs": [],
   "source": [
    "import os"
   ],
   "metadata": {
    "collapsed": false,
    "ExecuteTime": {
     "end_time": "2024-05-23T08:53:22.769793Z",
     "start_time": "2024-05-23T08:53:22.761746Z"
    }
   },
   "id": "35ac912d8e47e42a",
   "execution_count": 1
  },
  {
   "cell_type": "code",
   "outputs": [
    {
     "data": {
      "text/plain": "True"
     },
     "execution_count": 2,
     "metadata": {},
     "output_type": "execute_result"
    }
   ],
   "source": [
    "from dotenv import load_dotenv\n",
    "load_dotenv()"
   ],
   "metadata": {
    "collapsed": false,
    "ExecuteTime": {
     "end_time": "2024-05-23T08:53:22.786676Z",
     "start_time": "2024-05-23T08:53:22.772297Z"
    }
   },
   "id": "b919c31ba8785218",
   "execution_count": 2
  },
  {
   "cell_type": "markdown",
   "source": [
    "## Model"
   ],
   "metadata": {
    "collapsed": false
   },
   "id": "de6cf8b3438e2c3b"
  },
  {
   "cell_type": "code",
   "outputs": [],
   "source": [
    "from langserve import RemoteRunnable\n",
    "\n",
    "#os.environ[\"OPENAI_API_KEY\"] = getpass.getpass()\n",
    "#from langchain_openai import ChatOpenAI\n",
    "#model = ChatOpenAI(model=\"gpt-3.5-turbo\")\n",
    "model = RemoteRunnable(os.getenv('LANGSERVE_ENDPOINT'))"
   ],
   "metadata": {
    "collapsed": false,
    "ExecuteTime": {
     "end_time": "2024-05-23T08:53:24.968603Z",
     "start_time": "2024-05-23T08:53:22.787684Z"
    }
   },
   "id": "38bec3ccf1ce8513",
   "execution_count": 3
  },
  {
   "cell_type": "markdown",
   "source": [
    "## Message History"
   ],
   "metadata": {
    "collapsed": false
   },
   "id": "332c678ad0f58385"
  },
  {
   "cell_type": "code",
   "outputs": [
    {
     "data": {
      "text/plain": "AIMessage(content='Hello, Bob! I am an AI assistant. How can I help you today?', response_metadata={'model': 'llama-3-Korean-Bllossom-8B-gguf-Q4_K_M:latest', 'created_at': '2024-05-23T08:53:27.510054394Z', 'message': {'role': 'assistant', 'content': ''}, 'done': True, 'total_duration': 362669573, 'load_duration': 998004, 'prompt_eval_count': 55, 'prompt_eval_duration': 59296000, 'eval_count': 18, 'eval_duration': 161546000}, id='run-e9c734a6-824e-485f-9b5c-b1166fc888f1-0')"
     },
     "execution_count": 4,
     "metadata": {},
     "output_type": "execute_result"
    }
   ],
   "source": [
    "from langchain_core.messages import HumanMessage\n",
    "\n",
    "model.invoke([HumanMessage(content=\"Hi! I'm Bob\")])"
   ],
   "metadata": {
    "collapsed": false,
    "ExecuteTime": {
     "end_time": "2024-05-23T08:53:25.374402Z",
     "start_time": "2024-05-23T08:53:24.969617Z"
    }
   },
   "id": "77487dc1059fd350",
   "execution_count": 4
  },
  {
   "cell_type": "code",
   "outputs": [
    {
     "data": {
      "text/plain": "AIMessage(content='Your name is not specified in our records. Please sign in to create a account or edit your existing account to add your name.', response_metadata={'model': 'llama-3-Korean-Bllossom-8B-gguf-Q4_K_M:latest', 'created_at': '2024-05-23T08:53:28.16457122Z', 'message': {'role': 'assistant', 'content': ''}, 'done': True, 'total_duration': 632428204, 'load_duration': 736317, 'prompt_eval_count': 15, 'prompt_eval_duration': 57823000, 'eval_count': 27, 'eval_duration': 433526000}, id='run-04aac89a-53fa-4153-9a5e-f6f1ad131b48-0')"
     },
     "execution_count": 5,
     "metadata": {},
     "output_type": "execute_result"
    }
   ],
   "source": [
    "model.invoke([HumanMessage(content=\"What's my name?\")])"
   ],
   "metadata": {
    "collapsed": true,
    "ExecuteTime": {
     "end_time": "2024-05-23T08:53:26.031481Z",
     "start_time": "2024-05-23T08:53:25.376441Z"
    }
   },
   "id": "initial_id",
   "execution_count": 5
  },
  {
   "cell_type": "code",
   "outputs": [
    {
     "data": {
      "text/plain": "AIMessage(content='Your name is Bob. Is there anything else I can help you with?\\n', response_metadata={'model': 'llama-3-Korean-Bllossom-8B-gguf-Q4_K_M:latest', 'created_at': '2024-05-23T08:53:28.926977248Z', 'message': {'role': 'assistant', 'content': ''}, 'done': True, 'total_duration': 737387901, 'load_duration': 2184947, 'prompt_eval_count': 48, 'prompt_eval_duration': 133977000, 'eval_count': 18, 'eval_duration': 464207000}, id='run-8d4c3c16-4b00-4c07-a28a-9d3755bd3dd6-0')"
     },
     "execution_count": 6,
     "metadata": {},
     "output_type": "execute_result"
    }
   ],
   "source": [
    "from langchain_core.messages import AIMessage\n",
    "\n",
    "model.invoke(\n",
    "    [\n",
    "        #HumanMessage(content=\"Hi! My name is Bob\"),\n",
    "        HumanMessage(content=\"Hi! I'm Bob\"),\n",
    "        AIMessage(content=\"Hello Bob! How can I assist you today?\"),\n",
    "        HumanMessage(content=\"What's my name?\"),\n",
    "    ]\n",
    ")"
   ],
   "metadata": {
    "collapsed": false,
    "ExecuteTime": {
     "end_time": "2024-05-23T08:53:26.792934Z",
     "start_time": "2024-05-23T08:53:26.032514Z"
    }
   },
   "id": "713141c5967139e7",
   "execution_count": 6
  },
  {
   "cell_type": "code",
   "outputs": [],
   "source": [
    "from langchain_community.chat_message_histories import ChatMessageHistory\n",
    "from langchain_core.chat_history import BaseChatMessageHistory\n",
    "from langchain_core.runnables.history import RunnableWithMessageHistory\n",
    "\n",
    "store = {}\n",
    "\n",
    "def get_session_history(session_id: str) -> BaseChatMessageHistory:\n",
    "    if session_id not in store:\n",
    "        store[session_id] = ChatMessageHistory()\n",
    "    return store[session_id]"
   ],
   "metadata": {
    "collapsed": false,
    "ExecuteTime": {
     "end_time": "2024-05-23T08:53:26.811465Z",
     "start_time": "2024-05-23T08:53:26.794953Z"
    }
   },
   "id": "76067670245ae146",
   "execution_count": 7
  },
  {
   "cell_type": "code",
   "outputs": [],
   "source": [
    "# https://api.python.langchain.com/en/latest/runnables/langchain_core.runnables.history.RunnableWithMessageHistory.html\n",
    "with_message_history = RunnableWithMessageHistory(model, get_session_history)"
   ],
   "metadata": {
    "collapsed": false,
    "ExecuteTime": {
     "end_time": "2024-05-23T08:53:26.819928Z",
     "start_time": "2024-05-23T08:53:26.813474Z"
    }
   },
   "id": "4481100ae5570195",
   "execution_count": 8
  },
  {
   "cell_type": "code",
   "outputs": [],
   "source": [
    "config = {\"configurable\": {\"session_id\": \"abc2\"}}"
   ],
   "metadata": {
    "collapsed": false,
    "ExecuteTime": {
     "end_time": "2024-05-23T08:53:26.825114Z",
     "start_time": "2024-05-23T08:53:26.821460Z"
    }
   },
   "id": "1e469def3f77b16d",
   "execution_count": 9
  },
  {
   "cell_type": "code",
   "outputs": [
    {
     "data": {
      "text/plain": "'Hello, Bob! I am an AI assistant. How can I help you today?'"
     },
     "execution_count": 10,
     "metadata": {},
     "output_type": "execute_result"
    }
   ],
   "source": [
    "response = with_message_history.invoke(\n",
    "    [HumanMessage(content=\"Hi! I'm Bob\")],\n",
    "    config=config,\n",
    ")\n",
    "\n",
    "response.content"
   ],
   "metadata": {
    "collapsed": false,
    "ExecuteTime": {
     "end_time": "2024-05-23T08:53:27.351521Z",
     "start_time": "2024-05-23T08:53:26.827471Z"
    }
   },
   "id": "4f23bfd663702cbb",
   "execution_count": 10
  },
  {
   "cell_type": "code",
   "outputs": [
    {
     "data": {
      "text/plain": "InMemoryChatMessageHistory(messages=[HumanMessage(content=\"Hi! I'm Bob\"), AIMessage(content='Hello, Bob! I am an AI assistant. How can I help you today?', response_metadata={'model': 'llama-3-Korean-Bllossom-8B-gguf-Q4_K_M:latest', 'created_at': '2024-05-23T08:53:29.30424132Z', 'message': {'role': 'assistant', 'content': ''}, 'done': True, 'total_duration': 309195945, 'load_duration': 970172, 'prompt_eval_duration': 10694000, 'eval_count': 18, 'eval_duration': 156234000}, id='run-819378be-e6d6-4fdf-91df-4637326a274a-0')])"
     },
     "execution_count": 11,
     "metadata": {},
     "output_type": "execute_result"
    }
   ],
   "source": [
    "store[\"abc2\"]"
   ],
   "metadata": {
    "collapsed": false,
    "ExecuteTime": {
     "end_time": "2024-05-23T08:53:27.358042Z",
     "start_time": "2024-05-23T08:53:27.353055Z"
    }
   },
   "id": "73b585c09d963310",
   "execution_count": 11
  },
  {
   "cell_type": "code",
   "outputs": [
    {
     "data": {
      "text/plain": "'Your name is Bob. Is there anything else I can help you with?\\n'"
     },
     "execution_count": 12,
     "metadata": {},
     "output_type": "execute_result"
    }
   ],
   "source": [
    "response = with_message_history.invoke(\n",
    "    [HumanMessage(content=\"What's my name?\")],\n",
    "    config=config,\n",
    ")\n",
    "\n",
    "response.content"
   ],
   "metadata": {
    "collapsed": false,
    "ExecuteTime": {
     "end_time": "2024-05-23T08:53:27.742750Z",
     "start_time": "2024-05-23T08:53:27.360075Z"
    }
   },
   "id": "7714fe9dafa720e1",
   "execution_count": 12
  },
  {
   "cell_type": "code",
   "outputs": [
    {
     "data": {
      "text/plain": "InMemoryChatMessageHistory(messages=[HumanMessage(content=\"Hi! I'm Bob\"), AIMessage(content='Hello, Bob! I am an AI assistant. How can I help you today?', response_metadata={'model': 'llama-3-Korean-Bllossom-8B-gguf-Q4_K_M:latest', 'created_at': '2024-05-23T08:53:29.30424132Z', 'message': {'role': 'assistant', 'content': ''}, 'done': True, 'total_duration': 309195945, 'load_duration': 970172, 'prompt_eval_duration': 10694000, 'eval_count': 18, 'eval_duration': 156234000}, id='run-819378be-e6d6-4fdf-91df-4637326a274a-0'), HumanMessage(content=\"What's my name?\"), AIMessage(content='Your name is Bob. Is there anything else I can help you with?\\n', response_metadata={'model': 'llama-3-Korean-Bllossom-8B-gguf-Q4_K_M:latest', 'created_at': '2024-05-23T08:53:29.878766317Z', 'message': {'role': 'assistant', 'content': ''}, 'done': True, 'total_duration': 352015566, 'load_duration': 1097543, 'prompt_eval_count': 22, 'prompt_eval_duration': 58851000, 'eval_count': 18, 'eval_duration': 156510000}, id='run-9ee9ec86-b5e1-4e80-a991-4e8851c7804a-0')])"
     },
     "execution_count": 13,
     "metadata": {},
     "output_type": "execute_result"
    }
   ],
   "source": [
    "store[\"abc2\"]"
   ],
   "metadata": {
    "collapsed": false,
    "ExecuteTime": {
     "end_time": "2024-05-23T08:53:27.752699Z",
     "start_time": "2024-05-23T08:53:27.746795Z"
    }
   },
   "id": "d421517f099f41d2",
   "execution_count": 13
  },
  {
   "cell_type": "code",
   "outputs": [
    {
     "data": {
      "text/plain": "'Your name is not specified in our records. Please sign in to create a account or edit your existing account to add your name.'"
     },
     "execution_count": 14,
     "metadata": {},
     "output_type": "execute_result"
    }
   ],
   "source": [
    "config = {\"configurable\": {\"session_id\": \"abc3\"}}\n",
    "\n",
    "response = with_message_history.invoke(\n",
    "    [HumanMessage(content=\"What's my name?\")],\n",
    "    config=config,\n",
    ")\n",
    "\n",
    "response.content"
   ],
   "metadata": {
    "collapsed": false,
    "ExecuteTime": {
     "end_time": "2024-05-23T08:53:28.216496Z",
     "start_time": "2024-05-23T08:53:27.754783Z"
    }
   },
   "id": "4326be8106b5dcfe",
   "execution_count": 14
  },
  {
   "cell_type": "code",
   "outputs": [
    {
     "data": {
      "text/plain": "'Your Name is Bob. I see your point. We can use your real name if you prefer. What would you like me to call you?\\n'"
     },
     "execution_count": 15,
     "metadata": {},
     "output_type": "execute_result"
    }
   ],
   "source": [
    "config = {\"configurable\": {\"session_id\": \"abc2\"}}\n",
    "\n",
    "response = with_message_history.invoke(\n",
    "    [HumanMessage(content=\"What's my name?\")],\n",
    "    config=config,\n",
    ")\n",
    "\n",
    "response.content"
   ],
   "metadata": {
    "collapsed": false,
    "ExecuteTime": {
     "end_time": "2024-05-23T08:53:28.826873Z",
     "start_time": "2024-05-23T08:53:28.217503Z"
    }
   },
   "id": "7de917031bc72686",
   "execution_count": 15
  },
  {
   "cell_type": "code",
   "outputs": [
    {
     "data": {
      "text/plain": "[HumanMessage(content=\"Hi! I'm Bob\"),\n AIMessage(content='Hello, Bob! I am an AI assistant. How can I help you today?', response_metadata={'model': 'llama-3-Korean-Bllossom-8B-gguf-Q4_K_M:latest', 'created_at': '2024-05-23T08:53:29.30424132Z', 'message': {'role': 'assistant', 'content': ''}, 'done': True, 'total_duration': 309195945, 'load_duration': 970172, 'prompt_eval_duration': 10694000, 'eval_count': 18, 'eval_duration': 156234000}, id='run-819378be-e6d6-4fdf-91df-4637326a274a-0'),\n HumanMessage(content=\"What's my name?\"),\n AIMessage(content='Your name is Bob. Is there anything else I can help you with?\\n', response_metadata={'model': 'llama-3-Korean-Bllossom-8B-gguf-Q4_K_M:latest', 'created_at': '2024-05-23T08:53:29.878766317Z', 'message': {'role': 'assistant', 'content': ''}, 'done': True, 'total_duration': 352015566, 'load_duration': 1097543, 'prompt_eval_count': 22, 'prompt_eval_duration': 58851000, 'eval_count': 18, 'eval_duration': 156510000}, id='run-9ee9ec86-b5e1-4e80-a991-4e8851c7804a-0'),\n HumanMessage(content=\"What's my name?\"),\n AIMessage(content='Your Name is Bob. I see your point. We can use your real name if you prefer. What would you like me to call you?\\n', response_metadata={'model': 'llama-3-Korean-Bllossom-8B-gguf-Q4_K_M:latest', 'created_at': '2024-05-23T08:53:30.959892335Z', 'message': {'role': 'assistant', 'content': ''}, 'done': True, 'total_duration': 579146123, 'load_duration': 836721, 'prompt_eval_count': 92, 'prompt_eval_duration': 67460000, 'eval_count': 32, 'eval_duration': 290175000}, id='run-585c3a54-af3d-485e-b78a-86ba2d74c9d5-0')]"
     },
     "execution_count": 16,
     "metadata": {},
     "output_type": "execute_result"
    }
   ],
   "source": [
    "store[\"abc2\"].messages"
   ],
   "metadata": {
    "collapsed": false,
    "ExecuteTime": {
     "end_time": "2024-05-23T08:53:28.835715Z",
     "start_time": "2024-05-23T08:53:28.829117Z"
    }
   },
   "id": "880532153baf1c9f",
   "execution_count": 16
  },
  {
   "cell_type": "code",
   "outputs": [],
   "source": [
    "#[f\"{message.__class__.__name__.split()[-1]}:{message.content}\" for message in store[\"abc2\"].messages]"
   ],
   "metadata": {
    "collapsed": false,
    "ExecuteTime": {
     "end_time": "2024-05-23T08:53:28.845947Z",
     "start_time": "2024-05-23T08:53:28.836804Z"
    }
   },
   "id": "cd97864b7ab39b78",
   "execution_count": 17
  },
  {
   "cell_type": "markdown",
   "source": [
    "## Prompt templates"
   ],
   "metadata": {
    "collapsed": false
   },
   "id": "39c1dabcbee69332"
  },
  {
   "cell_type": "code",
   "outputs": [],
   "source": [
    "from langchain_core.prompts import ChatPromptTemplate, MessagesPlaceholder\n",
    "\n",
    "prompt = ChatPromptTemplate.from_messages(\n",
    "    [\n",
    "        (\n",
    "            \"system\",\n",
    "            \"You are a helpful assistant. Answer all questions to the best of your ability.\",\n",
    "        ),\n",
    "        MessagesPlaceholder(variable_name=\"messages\"),\n",
    "    ]\n",
    ")\n",
    "\n",
    "chain = prompt | model"
   ],
   "metadata": {
    "collapsed": false,
    "ExecuteTime": {
     "end_time": "2024-05-23T08:53:28.852571Z",
     "start_time": "2024-05-23T08:53:28.848108Z"
    }
   },
   "id": "4795090c83861a2f",
   "execution_count": 18
  },
  {
   "cell_type": "code",
   "outputs": [
    {
     "data": {
      "text/plain": "'Nice to meet you, Bob! I am an AI assistant. How can I help you today?'"
     },
     "execution_count": 19,
     "metadata": {},
     "output_type": "execute_result"
    }
   ],
   "source": [
    "response = chain.invoke({\"messages\": [HumanMessage(content=\"hi! I'm bob\")]})\n",
    "\n",
    "response.content"
   ],
   "metadata": {
    "collapsed": false,
    "ExecuteTime": {
     "end_time": "2024-05-23T08:53:29.270560Z",
     "start_time": "2024-05-23T08:53:28.853591Z"
    }
   },
   "id": "7a509a946117040c",
   "execution_count": 19
  },
  {
   "cell_type": "code",
   "outputs": [],
   "source": [
    "with_message_history = RunnableWithMessageHistory(chain, get_session_history)"
   ],
   "metadata": {
    "collapsed": false,
    "ExecuteTime": {
     "end_time": "2024-05-23T08:53:29.278112Z",
     "start_time": "2024-05-23T08:53:29.272583Z"
    }
   },
   "id": "fd53969e1382ee1",
   "execution_count": 20
  },
  {
   "cell_type": "code",
   "outputs": [],
   "source": [
    "config = {\"configurable\": {\"session_id\": \"abc5\"}}"
   ],
   "metadata": {
    "collapsed": false,
    "ExecuteTime": {
     "end_time": "2024-05-23T08:53:29.290647Z",
     "start_time": "2024-05-23T08:53:29.280196Z"
    }
   },
   "id": "f55ab0f6a41a8a51",
   "execution_count": 21
  },
  {
   "cell_type": "code",
   "outputs": [
    {
     "data": {
      "text/plain": "'Nice to meet you, Jim. I am an AI assistant. How can I help you today'"
     },
     "execution_count": 22,
     "metadata": {},
     "output_type": "execute_result"
    }
   ],
   "source": [
    "response = with_message_history.invoke(\n",
    "    #[HumanMessage(content=\"Hi! My name is Jim\")],\n",
    "    [HumanMessage(content=\"Hi! I'm Jim\")],\n",
    "    #{\"messages\":[HumanMessage(content=\"Hi! I'm Jim\")]},\n",
    "    config=config,\n",
    ")\n",
    "\n",
    "response.content"
   ],
   "metadata": {
    "collapsed": false,
    "ExecuteTime": {
     "end_time": "2024-05-23T08:53:29.707030Z",
     "start_time": "2024-05-23T08:53:29.292662Z"
    }
   },
   "id": "7909afe513f35f54",
   "execution_count": 22
  },
  {
   "cell_type": "code",
   "outputs": [
    {
     "data": {
      "text/plain": "'Your name is Jim. We just met, remember?\\n'"
     },
     "execution_count": 23,
     "metadata": {},
     "output_type": "execute_result"
    }
   ],
   "source": [
    "response = with_message_history.invoke(\n",
    "    [HumanMessage(content=\"What's my name?\")],\n",
    "    #{\"messages\": [HumanMessage(content=\"What's my name?\")]},\n",
    "    config=config,\n",
    ")\n",
    "\n",
    "response.content"
   ],
   "metadata": {
    "collapsed": false,
    "ExecuteTime": {
     "end_time": "2024-05-23T08:53:30.125819Z",
     "start_time": "2024-05-23T08:53:29.708377Z"
    }
   },
   "id": "53e3304b344d21aa",
   "execution_count": 23
  },
  {
   "cell_type": "code",
   "outputs": [
    {
     "data": {
      "text/plain": "[\"HumanMessage:Hi! I'm Jim\",\n 'AIMessage:Nice to meet you, Jim. I am an AI assistant. How can I help you today',\n \"HumanMessage:What's my name?\",\n 'AIMessage:Your name is Jim. We just met, remember?\\n']"
     },
     "execution_count": 24,
     "metadata": {},
     "output_type": "execute_result"
    }
   ],
   "source": [
    "[f\"{message.__class__.__name__.split()[-1]}:{message.content}\" for message in store[\"abc5\"].messages]"
   ],
   "metadata": {
    "collapsed": false,
    "ExecuteTime": {
     "end_time": "2024-05-23T08:53:30.133293Z",
     "start_time": "2024-05-23T08:53:30.127832Z"
    }
   },
   "id": "20a675a6482b2d87",
   "execution_count": 24
  },
  {
   "cell_type": "code",
   "outputs": [
    {
     "data": {
      "text/plain": "[HumanMessage(content=\"Hi! I'm Jim\"),\n AIMessage(content='Nice to meet you, Jim. I am an AI assistant. How can I help you today', response_metadata={'model': 'llama-3-Korean-Bllossom-8B-gguf-Q4_K_M:latest', 'created_at': '2024-05-23T08:53:31.840972218Z', 'message': {'role': 'assistant', 'content': ''}, 'done': True, 'total_duration': 381632241, 'load_duration': 1045542, 'prompt_eval_count': 16, 'prompt_eval_duration': 57764000, 'eval_count': 22, 'eval_duration': 189909000}, id='run-f8a6cbf9-f89d-43da-b96f-57b129655faf-0'),\n HumanMessage(content=\"What's my name?\"),\n AIMessage(content='Your name is Jim. We just met, remember?\\n', response_metadata={'model': 'llama-3-Korean-Bllossom-8B-gguf-Q4_K_M:latest', 'created_at': '2024-05-23T08:53:32.20044177Z', 'message': {'role': 'assistant', 'content': ''}, 'done': True, 'total_duration': 313455879, 'load_duration': 1034119, 'prompt_eval_count': 22, 'prompt_eval_duration': 58686000, 'eval_count': 14, 'eval_duration': 118981000}, id='run-083ffbad-9d9d-4f8e-b910-0bdb0d30eaf7-0')]"
     },
     "execution_count": 25,
     "metadata": {},
     "output_type": "execute_result"
    }
   ],
   "source": [
    "store[\"abc5\"].messages"
   ],
   "metadata": {
    "collapsed": false,
    "ExecuteTime": {
     "end_time": "2024-05-23T08:53:30.141342Z",
     "start_time": "2024-05-23T08:53:30.134864Z"
    }
   },
   "id": "2418afe2795e3eb1",
   "execution_count": 25
  },
  {
   "cell_type": "code",
   "outputs": [],
   "source": [
    "prompt = ChatPromptTemplate.from_messages(\n",
    "    [\n",
    "        (\n",
    "            \"system\",\n",
    "            \"You are a helpful assistant. Answer all questions to the best of your ability in {language}.\",\n",
    "        ),\n",
    "        MessagesPlaceholder(variable_name=\"messages\"),\n",
    "    ]\n",
    ")\n",
    "\n",
    "chain = prompt | model"
   ],
   "metadata": {
    "collapsed": false,
    "ExecuteTime": {
     "end_time": "2024-05-23T08:53:30.148275Z",
     "start_time": "2024-05-23T08:53:30.143658Z"
    }
   },
   "id": "4b49c8d864a622b4",
   "execution_count": 26
  },
  {
   "cell_type": "code",
   "outputs": [
    {
     "data": {
      "text/plain": "\"¡hola! Soy bien cercana asistente. Preguña me anything you want, and I'll do my best to answer it in Spanish.\\n  ```\\n \""
     },
     "execution_count": 27,
     "metadata": {},
     "output_type": "execute_result"
    }
   ],
   "source": [
    "response = chain.invoke(\n",
    "    {\"messages\": [HumanMessage(content=\"hi! I'm bob\")], \"language\": \"Spanish\"}\n",
    ")\n",
    "\n",
    "response.content"
   ],
   "metadata": {
    "collapsed": false,
    "ExecuteTime": {
     "end_time": "2024-05-23T08:53:30.745394Z",
     "start_time": "2024-05-23T08:53:30.149700Z"
    }
   },
   "id": "be84ca7d0839e298",
   "execution_count": 27
  },
  {
   "cell_type": "markdown",
   "source": [
    "## Managing Conversation History"
   ],
   "metadata": {
    "collapsed": false
   },
   "id": "aa7f67adbfc0e78d"
  },
  {
   "cell_type": "code",
   "outputs": [],
   "source": [
    "from langchain_core.runnables import RunnablePassthrough\n",
    "\n",
    "\n",
    "def filter_messages(messages, k=10):\n",
    "    return messages[-k:]\n",
    "\n",
    "\n",
    "chain = (\n",
    "    RunnablePassthrough.assign(messages=lambda x: filter_messages(x[\"messages\"]))\n",
    "    | prompt\n",
    "    | model\n",
    ")"
   ],
   "metadata": {
    "collapsed": false,
    "ExecuteTime": {
     "end_time": "2024-05-23T08:53:30.756454Z",
     "start_time": "2024-05-23T08:53:30.748258Z"
    }
   },
   "id": "4fc5956436cabb58",
   "execution_count": 28
  },
  {
   "cell_type": "code",
   "outputs": [],
   "source": [
    "messages = [\n",
    "    HumanMessage(content=\"hi! I'm bob\"),\n",
    "    AIMessage(content=\"hi!\"),\n",
    "    HumanMessage(content=\"I like vanilla ice cream\"),\n",
    "    AIMessage(content=\"nice\"),\n",
    "    HumanMessage(content=\"whats 2 + 2\"),\n",
    "    AIMessage(content=\"4\"),\n",
    "    HumanMessage(content=\"thanks\"),\n",
    "    AIMessage(content=\"no problem!\"),\n",
    "    HumanMessage(content=\"having fun?\"),\n",
    "    AIMessage(content=\"yes!\"),\n",
    "]"
   ],
   "metadata": {
    "collapsed": false,
    "ExecuteTime": {
     "end_time": "2024-05-23T08:53:30.767484Z",
     "start_time": "2024-05-23T08:53:30.758160Z"
    }
   },
   "id": "6d27025f0c6570f5",
   "execution_count": 29
  },
  {
   "cell_type": "code",
   "outputs": [
    {
     "data": {
      "text/plain": "\"it's a secret ;-) \\n\""
     },
     "execution_count": 30,
     "metadata": {},
     "output_type": "execute_result"
    }
   ],
   "source": [
    "response = chain.invoke(\n",
    "    {\n",
    "        \"messages\": messages + [HumanMessage(content=\"what's my name?\")],\n",
    "        \"language\": \"English\",\n",
    "    }\n",
    ")\n",
    "response.content"
   ],
   "metadata": {
    "collapsed": false,
    "ExecuteTime": {
     "end_time": "2024-05-23T08:53:31.382356Z",
     "start_time": "2024-05-23T08:53:30.769599Z"
    }
   },
   "id": "a9f03f4aaaeae153",
   "execution_count": 30
  },
  {
   "cell_type": "code",
   "outputs": [
    {
     "data": {
      "text/plain": "\"that's a tough one. Do you have a favorite ice cream flavor?\\n\""
     },
     "execution_count": 31,
     "metadata": {},
     "output_type": "execute_result"
    }
   ],
   "source": [
    "response = chain.invoke(\n",
    "    {\n",
    "        \"messages\": messages + [HumanMessage(content=\"what's my fav ice cream\")],\n",
    "        \"language\": \"English\",\n",
    "    }\n",
    ")\n",
    "response.content"
   ],
   "metadata": {
    "collapsed": false,
    "ExecuteTime": {
     "end_time": "2024-05-23T08:53:32.433967Z",
     "start_time": "2024-05-23T08:53:31.384414Z"
    }
   },
   "id": "201f5eb393f22b33",
   "execution_count": 31
  },
  {
   "cell_type": "code",
   "outputs": [],
   "source": [
    "with_message_history = RunnableWithMessageHistory(\n",
    "    chain,\n",
    "    get_session_history,\n",
    "    input_messages_key=\"messages\",\n",
    ")\n",
    "\n",
    "config = {\"configurable\": {\"session_id\": \"abc20\"}}"
   ],
   "metadata": {
    "collapsed": false,
    "ExecuteTime": {
     "end_time": "2024-05-23T08:53:32.441427Z",
     "start_time": "2024-05-23T08:53:32.435978Z"
    }
   },
   "id": "99e370e4927848f1",
   "execution_count": 32
  },
  {
   "cell_type": "code",
   "outputs": [
    {
     "data": {
      "text/plain": "\"it's a secret ;-) \\n\""
     },
     "execution_count": 33,
     "metadata": {},
     "output_type": "execute_result"
    }
   ],
   "source": [
    "response = with_message_history.invoke(\n",
    "    {\n",
    "        \"messages\": messages + [HumanMessage(content=\"whats my name?\")],\n",
    "        \"language\": \"English\",\n",
    "    },\n",
    "    config=config,\n",
    ")\n",
    "\n",
    "response.content"
   ],
   "metadata": {
    "collapsed": false,
    "ExecuteTime": {
     "end_time": "2024-05-23T08:53:33.163958Z",
     "start_time": "2024-05-23T08:53:32.443459Z"
    }
   },
   "id": "c3f0ed953e3e494a",
   "execution_count": 33
  },
  {
   "cell_type": "code",
   "outputs": [
    {
     "data": {
      "text/plain": "\"that's a good question! I think your favorite ice cream is the same as everybody elset: chocolate!\""
     },
     "execution_count": 34,
     "metadata": {},
     "output_type": "execute_result"
    }
   ],
   "source": [
    "response = with_message_history.invoke(\n",
    "    {\n",
    "        \"messages\": [HumanMessage(content=\"whats my favorite ice cream?\")],\n",
    "        \"language\": \"English\",\n",
    "    },\n",
    "    config=config,\n",
    ")\n",
    "\n",
    "response.content"
   ],
   "metadata": {
    "collapsed": false,
    "ExecuteTime": {
     "end_time": "2024-05-23T08:53:33.919705Z",
     "start_time": "2024-05-23T08:53:33.165404Z"
    }
   },
   "id": "9955083225f6b4bd",
   "execution_count": 34
  },
  {
   "cell_type": "markdown",
   "source": [
    "## Streaming"
   ],
   "metadata": {
    "collapsed": false
   },
   "id": "5c3e0cbee52283e6"
  },
  {
   "cell_type": "code",
   "outputs": [
    {
     "name": "stdout",
     "output_type": "stream",
     "text": [
      "Here| is| one|:| Why| was| the| math| book| so| sad|?| Because| it| had| too| many| prime| numbers||"
     ]
    }
   ],
   "source": [
    "config = {\"configurable\": {\"session_id\": \"abc15\"}}\n",
    "for r in with_message_history.stream(\n",
    "    {\n",
    "        \"messages\": [HumanMessage(content=\"hi! I'm todd. tell me a joke\")],\n",
    "        \"language\": \"English\",\n",
    "    },\n",
    "    config=config,\n",
    "):\n",
    "    print(r.content, end=\"|\")"
   ],
   "metadata": {
    "collapsed": false,
    "ExecuteTime": {
     "end_time": "2024-05-23T08:53:34.390115Z",
     "start_time": "2024-05-23T08:53:33.921781Z"
    }
   },
   "id": "3823ee40bad96757",
   "execution_count": 35
  },
  {
   "cell_type": "code",
   "outputs": [],
   "source": [],
   "metadata": {
    "collapsed": false,
    "ExecuteTime": {
     "end_time": "2024-05-23T08:53:34.394687Z",
     "start_time": "2024-05-23T08:53:34.391151Z"
    }
   },
   "id": "21cbcfb5f136095e",
   "execution_count": 35
  }
 ],
 "metadata": {
  "kernelspec": {
   "display_name": "Python 3",
   "language": "python",
   "name": "python3"
  },
  "language_info": {
   "codemirror_mode": {
    "name": "ipython",
    "version": 2
   },
   "file_extension": ".py",
   "mimetype": "text/x-python",
   "name": "python",
   "nbconvert_exporter": "python",
   "pygments_lexer": "ipython2",
   "version": "2.7.6"
  }
 },
 "nbformat": 4,
 "nbformat_minor": 5
}
